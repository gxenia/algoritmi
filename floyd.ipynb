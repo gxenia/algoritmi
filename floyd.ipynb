{
 "cells": [
  {
   "cell_type": "markdown",
   "id": "ba305f0a",
   "metadata": {},
   "source": [
    "# L'algoritmo di Floyd"
   ]
  },
  {
   "cell_type": "markdown",
   "id": "de5d7bec",
   "metadata": {},
   "source": [
    "L'algoritmo di Floyd serve per costruire la matrice delle distanze tra le coppie di nodi di un grafo. \n",
    "\n",
    "E' un algoritmo che si basa sulla strategia della programmazione dinamica."
   ]
  },
  {
   "cell_type": "markdown",
   "id": "7cacdbba",
   "metadata": {},
   "source": [
    "**Come si potrebbe costruire la matrice delle distanze?**\n",
    "\n",
    "- *Approccio inefficiente, ma naturale*: \n",
    "calcolo prima i cammini con 0 nodi intermedi (archi), poi quelli con 1 nodo intermedio, poi con 2... fino a n-2. \n",
    "\n",
    "    In formule:\n",
    "\\begin{equation*}\n",
    "    M^{i+1}[x,y] = min( M^i[x,y], min_{z\\in M}(M^i[x,z]+M^0[z,y]) )\n",
    "\\end{equation*}\n",
    "\n",
    "    con $M^0$ la matrice delle distanze a livello 0.\n",
    "\n",
    "    La complessità di calcolare la matrice $M^{i+1}$ è $O(n^3)$ perché va calcolata al variare  delle tre variabili $x$, $y$ e $z$. Per costruire la matrice dell'ultimo livello (ossia $n-2$) la complessità è pertanto \n",
    "\\begin{equation*}\n",
    "    (n-2)\\cdot O(n^3) \\to O(n^4)\n",
    "\\end{equation*}\n",
    "\n",
    "- *Approccio più efficiente - quello di Floyd*:\n",
    "considerare prima i cammini con nodi intermedi minori di 0, poi i cammini con nodi intermedi minori di 1... (nota che non ci sono vincoli sui nodi estremi). Questi cammini sono detti <u>cammini i-vincolati</u>.\n",
    "In formule:\n",
    "\\begin{equation*}\n",
    "    M^{i+1}[x,y] = min( M^i[x,y], M^i[x,i]+M^i[i,y]) )\n",
    "\\end{equation*}\n",
    "Questo approccio ha una complessità $O(n^3)$ in quanto variano le tre variabili $x$, $y$ e $i$.\n"
   ]
  },
  {
   "cell_type": "code",
   "execution_count": 29,
   "id": "2798e7fb",
   "metadata": {},
   "outputs": [],
   "source": [
    "from grafi.grafipesati import GrafoP, GrafoLAP\n",
    "from grafi.grafinopesati import GrafoNOP, GrafoNOLAP\n",
    "from grafi.algosugrafipesati import floyd\n",
    "import sys"
   ]
  },
  {
   "cell_type": "code",
   "execution_count": 30,
   "id": "b881b5ab",
   "metadata": {},
   "outputs": [],
   "source": [
    "def myfloyd( g:GrafoP ) -> list[list[int]]:\n",
    "    M = [[sys.maxsize]*g.n for _ in range(g.n)]\n",
    "    for i in range(g.n): M[i][i] = 0\n",
    "    for x, y, p in g.archi(): M[x][y] = p\n",
    "    for i in range(g.n):\n",
    "        for x in range(g.n):\n",
    "            for y in range(g.n):\n",
    "                M[x][y] = min(M[x][y], M[x][i] + M[i][y])\n",
    "    return M"
   ]
  },
  {
   "cell_type": "code",
   "execution_count": null,
   "id": "fa0942d1",
   "metadata": {},
   "outputs": [
    {
     "name": "stdout",
     "output_type": "stream",
     "text": [
      "[0, 5, 1, 3]\n",
      "[5, 0, 6, 2]\n",
      "[1, 6, 0, 4]\n",
      "[3, 2, 4, 0]\n"
     ]
    }
   ],
   "source": [
    "g : GrafoP = GrafoLAP(4)\n",
    "g.aggiungiarco(0,1,8)\n",
    "g.aggiungiarco(0,2,1)\n",
    "g.aggiungiarco(0,3,3)\n",
    "g.aggiungiarco(1,3,2)\n",
    "g.aggiungiarco(2,3,7)\n",
    "g.aggiungiarco(1,0,8)\n",
    "g.aggiungiarco(2,0,1)\n",
    "g.aggiungiarco(3,0,3)\n",
    "g.aggiungiarco(3,1,2)\n",
    "g.aggiungiarco(3,2,7)\n",
    "\n",
    "M = myfloyd(g)\n",
    "for r in M: print(r)\n",
    "\n",
    "# just for checking: print(floyd(g))"
   ]
  }
 ],
 "metadata": {
  "kernelspec": {
   "display_name": "Python 3",
   "language": "python",
   "name": "python3"
  },
  "language_info": {
   "codemirror_mode": {
    "name": "ipython",
    "version": 3
   },
   "file_extension": ".py",
   "mimetype": "text/x-python",
   "name": "python",
   "nbconvert_exporter": "python",
   "pygments_lexer": "ipython3",
   "version": "3.9.13"
  }
 },
 "nbformat": 4,
 "nbformat_minor": 5
}
