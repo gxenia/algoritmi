{
 "cells": [
  {
   "cell_type": "markdown",
   "id": "3c8bcf81",
   "metadata": {},
   "source": [
    "# Algoritmo di Prim"
   ]
  },
  {
   "cell_type": "markdown",
   "id": "8804c13b",
   "metadata": {},
   "source": [
    "L'algoritmo di Prim è uno degli algoritmi più noti che trova il minimo albero ricoprente di un grafo. \n",
    "\n",
    "<u>Reminder sul minimo albero ricoprente</u>\n",
    "\n",
    "Dato un grafo $G = <N, E, \\lambda >$, un albero $A = <N, E_A, \\lambda_A >$ è un minimo albero ricoprente se non esiste alcun altro albero ricoprente $A'$ t.c $\\text{costo}(A') > \\text{costo}(A)$"
   ]
  },
  {
   "cell_type": "markdown",
   "id": "e745186b",
   "metadata": {},
   "source": [
    "Inoltre l'algoritmo di Prim è un *algoritmo goloso*. Pertando, lo possiamo caratterizzare da:\n",
    "- Spazio delle possibili soluzioni: $A = <N_A, E_A, \\lambda_A>$\n",
    "- Soluzione iniziale: $A_0 = <\\{u\\}, \\emptyset>, \\cdots>$\n",
    "- Regola di movimento: $A' \\to A'' = <N' \\cup \\{x\\}, E' \\cup \\{(y, x)\\}, \\lambda''>, \\quad x\\notin N'$\n",
    "- Costo di una soluzione: *somma degli archi dell'albero*\n",
    "- Criterio di terminazione: $N_A \\equiv N$ "
   ]
  },
  {
   "attachments": {
    "1_7kpPIPcmXr38Juh0umM6fA.jpg": {
     "image/jpeg": "[encoded data removed]"
    }
   },
   "cell_type": "markdown",
   "id": "46c727eb",
   "metadata": {},
   "source": [
    "![1_7kpPIPcmXr38Juh0umM6fA.jpg](attachment:1_7kpPIPcmXr38Juh0umM6fA.jpg)"
   ]
  },
  {
   "cell_type": "markdown",
   "id": "51ddea42",
   "metadata": {},
   "source": [
    "## Implementazione\n",
    "\n",
    "Una delle possibili implementazioni consiste nel tenersi 3 array:\n",
    "1. `presente_sol : bool[]` - la posizione i è a true se il nodo i è stato inserito nella soluzione\n",
    "2. `pesi : int[]` - conserva l'arco di peso minimo per raggiungere il nodo i (fino a quel momento)\n",
    "3. `padri : int[]` - conserva i padri relativi agli archi di peso minimo\n",
    "\n",
    "Nell'algoritmo di Prim quindi partiamo da un nodo a caso e poi esploriamo gli adiacenti, per ognuno di essi aggiorniamo l'array dei pesi e dei padri se il peso per raggiungerlo dal nodo preso in considerazione è minore."
   ]
  },
  {
   "cell_type": "code",
   "execution_count": 95,
   "id": "4dbe5fcc",
   "metadata": {},
   "outputs": [],
   "source": [
    "import sys\n",
    "from grafi.grafinopesati import GrafoNOP, GrafoNOLAP"
   ]
  },
  {
   "cell_type": "code",
   "execution_count": 96,
   "id": "88f51390",
   "metadata": {},
   "outputs": [],
   "source": [
    "def prim( g:GrafoNOP ) -> GrafoNOP:\n",
    "    # Inizializzo le strutture dati di supporto\n",
    "    presente_sol : list[bool] = [False]*g.n\n",
    "    pesi : list[int] = [sys.maxsize]*g.n\n",
    "    padri : list[int] = [-1]*g.n\n",
    "    \n",
    "    ret : GrafoNOP = GrafoNOLAP(g.n) # Albero in uscita\n",
    "    nodo_rif : int = 0\n",
    "    presente_sol[nodo_rif] = True\n",
    "    pesi[nodo_rif] = 0\n",
    "    padri[nodo_rif] = 0\n",
    "    while ( any(not x for x in presente_sol) ): # Finché non ho inserito tutti i nodi nella soluzione\n",
    "        # Scorro gli adiacenti\n",
    "        for arco in g.adiacenti(nodo_rif):\n",
    "            if ( not presente_sol[arco.y] and arco.peso < pesi[arco.y] ):\n",
    "                pesi[arco.y] = arco.peso\n",
    "                padri[arco.y] = nodo_rif\n",
    "        # Scelgo il prossimo nodo di riferimento (quello il cui costo di raggiungimento è minimo)\n",
    "        min_peso = min( [pesi[i] for i in range(g.n) if presente_sol[i] == False] )\n",
    "        min_nodo = -1\n",
    "        for i in range(g.n):\n",
    "            if presente_sol[i] == False and pesi[i] == min_peso: \n",
    "                min_nodo = i \n",
    "                break\n",
    "\n",
    "        x, y = padri[min_nodo], min_nodo\n",
    "        ret.aggiungiarco(x,y,min_peso) # aggiungo l'arco alla soluzione\n",
    "\n",
    "        nodo_rif = y # aggiorno il nodo di riferimento\n",
    "        presente_sol[nodo_rif] = True\n",
    "        \n",
    "    return ret"
   ]
  },
  {
   "cell_type": "markdown",
   "id": "400e4b2f",
   "metadata": {},
   "source": [
    "Consideriamo ora il minimo albero ricoprente del seguente grafo:\n",
    "<img src=\"image.png\" alt=\"alt text\"\n",
    "     style=\"display:block; margin:auto; width:300px;\">"
   ]
  },
  {
   "cell_type": "code",
   "execution_count": 97,
   "id": "97ad284b",
   "metadata": {},
   "outputs": [
    {
     "name": "stdout",
     "output_type": "stream",
     "text": [
      "(0, 1, 1)\n",
      "(0, 3, 1)\n",
      "(1, 0, 1)\n",
      "(2, 3, 1)\n",
      "(3, 0, 1)\n",
      "(3, 2, 1)\n",
      "(3, 4, 3)\n",
      "(4, 3, 3)\n"
     ]
    }
   ],
   "source": [
    "# Speriamo funzioni\n",
    "\n",
    "g : GrafoNOP = GrafoNOLAP(5)\n",
    "g.aggiungiarco(0,1,1)\n",
    "g.aggiungiarco(0,3,1)\n",
    "g.aggiungiarco(0,4,5)\n",
    "g.aggiungiarco(1,2,4)\n",
    "g.aggiungiarco(1,3,2)\n",
    "g.aggiungiarco(2,3,1)\n",
    "g.aggiungiarco(3,4,3)\n",
    "\n",
    "min_albero_ricoprente = prim(g)\n",
    "min_albero_ricoprente.stampa()"
   ]
  },
  {
   "cell_type": "markdown",
   "id": "a98ec260",
   "metadata": {},
   "source": [
    "**Considerazioni**\n",
    "\n",
    "In questa implementazione a ogni passo / *per ogni nodo* scorro gli adiacenti del nodo di riferimento e aggiorno i 3 vettori (al massimo 3 aggiornamenti per ogni adiacente). Inoltre *per ogni nodo* mi procuro il prossimo nodo da restituire con una ricerca del minimo.\n",
    "\n",
    "Il costo è pertando $O(n^2)$ indipendentemente dal tipo di implementazione del grafo (se LA o MA)."
   ]
  },
  {
   "cell_type": "markdown",
   "id": "c582e709",
   "metadata": {},
   "source": [
    "Per ridurre il costo posso pensare di agire sulla ricerca del minimo mantenendomi una struttura dati heap (modificabile) in cui mantengo delle coppie <nodo x, peso dell'arco minimo per raggiungere x>. In questo modo *per ogni arco faccio l'inserimento o l'update* della struttura dati heap. Questo riduce il costo a $O(m \\cdot \\log(n))$"
   ]
  },
  {
   "cell_type": "code",
   "execution_count": 98,
   "id": "3f430f53",
   "metadata": {},
   "outputs": [],
   "source": [
    "from heap.heap import Heap\n",
    "from heap.heapmodificabile import HeapModificabile\n",
    "from grafi.algosugrafipesati import Pair"
   ]
  },
  {
   "cell_type": "code",
   "execution_count": 99,
   "id": "9a41975a",
   "metadata": {},
   "outputs": [],
   "source": [
    "def prim_migliorato( g:GrafoNOP ) -> GrafoNOP:\n",
    "    # Inizializzo le strutture dati di supporto\n",
    "    presente_sol : list[bool] = [False]*g.n\n",
    "    pesi : list[int] = [sys.maxsize]*g.n\n",
    "    padri : list[int] = [-1]*g.n\n",
    "    heap : HeapModificabile[Pair] = HeapModificabile(g.n)\n",
    "    \n",
    "    ret : GrafoNOP = GrafoNOLAP(g.n) # Albero in uscita\n",
    "    nodo_rif : int = 0\n",
    "    presente_sol[nodo_rif] = True\n",
    "    pesi[nodo_rif] = 0\n",
    "    padri[nodo_rif] = 0\n",
    "    \n",
    "    # Inizializzo l'heap con gli adiacenti di 0\n",
    "    for arco in g.adiacenti(nodo_rif):\n",
    "        heap.ins(Pair(arco.y, arco.peso))\n",
    "        pesi[arco.y] = arco.peso\n",
    "        padri[arco.y] = 0 # nodo_rif\n",
    "\n",
    "    while ( not heap.evuoto() ): # Finché non ho inserito tutti i nodi nella soluzione\n",
    "        nodo : Pair = heap.out() # Pair ( nodo, arco min per raggiungerlo )\n",
    "        nodo_rif = nodo.x \n",
    "\n",
    "        x, y = padri[nodo_rif], nodo_rif\n",
    "        ret.aggiungiarco(x,y,nodo.p) # aggiungo l'arco alla soluzione\n",
    "        presente_sol[nodo_rif] = True\n",
    "\n",
    "        # Scorro gli adiacenti\n",
    "        for arco in g.adiacenti(nodo_rif):\n",
    "            if ( not presente_sol[arco.y] ):\n",
    "                a = Pair(arco.y, arco.peso)\n",
    "                if ( padri[arco.y] == -1 ):\n",
    "                    heap.ins(a)\n",
    "                    pesi[arco.y] = arco.peso\n",
    "                    padri[arco.y] = nodo_rif\n",
    "                elif ( arco.peso < pesi[arco.y] ):\n",
    "                    heap.update(a)\n",
    "                    pesi[arco.y] = arco.peso\n",
    "                    padri[arco.y] = nodo_rif\n",
    "        \n",
    "    return ret"
   ]
  },
  {
   "cell_type": "markdown",
   "id": "5db6cb6b",
   "metadata": {},
   "source": [
    "Consideriamo ancora il minimo albero ricoprente del grafo di prima:\n",
    "<img src=\"image.png\" alt=\"alt text\"\n",
    "     style=\"display:block; margin:auto; width:300px;\">"
   ]
  },
  {
   "cell_type": "code",
   "execution_count": 100,
   "id": "505ff562",
   "metadata": {},
   "outputs": [
    {
     "name": "stdout",
     "output_type": "stream",
     "text": [
      "(0, 1, 1)\n",
      "(0, 3, 1)\n",
      "(1, 0, 1)\n",
      "(2, 3, 1)\n",
      "(3, 0, 1)\n",
      "(3, 2, 1)\n",
      "(3, 4, 3)\n",
      "(4, 3, 3)\n"
     ]
    }
   ],
   "source": [
    "# Speriamo funzioni\n",
    "\n",
    "g : GrafoNOP = GrafoNOLAP(5)\n",
    "g.aggiungiarco(0,1,1)\n",
    "g.aggiungiarco(0,3,1)\n",
    "g.aggiungiarco(0,4,5)\n",
    "g.aggiungiarco(1,2,4)\n",
    "g.aggiungiarco(1,3,2)\n",
    "g.aggiungiarco(2,3,1)\n",
    "g.aggiungiarco(3,4,3)\n",
    "\n",
    "min_albero_ricoprente = prim_migliorato(g)\n",
    "min_albero_ricoprente.stampa()"
   ]
  },
  {
   "cell_type": "markdown",
   "id": "2f87da69",
   "metadata": {},
   "source": [
    "Giusto per confrontare con l'esempio utilizzando in  `Dijkstra.ipynb` :"
   ]
  },
  {
   "cell_type": "code",
   "execution_count": 101,
   "id": "88ed36a5",
   "metadata": {},
   "outputs": [
    {
     "name": "stdout",
     "output_type": "stream",
     "text": [
      "(0, 1, 1)\n",
      "(1, 0, 1)\n",
      "(1, 2, 1)\n",
      "(2, 1, 1)\n",
      "(2, 3, 1)\n",
      "(3, 2, 1)\n"
     ]
    }
   ],
   "source": [
    "# Speriamo funzioni\n",
    "\n",
    "g : GrafoNOP = GrafoNOLAP(4)\n",
    "g.aggiungiarco(0,1,1)\n",
    "g.aggiungiarco(0,3,2)\n",
    "g.aggiungiarco(1,2,1)\n",
    "g.aggiungiarco(2,3,1)\n",
    "\n",
    "min_albero_ricoprente = prim(g)\n",
    "min_albero_ricoprente.stampa()"
   ]
  }
 ],
 "metadata": {
  "kernelspec": {
   "display_name": "Python 3",
   "language": "python",
   "name": "python3"
  },
  "language_info": {
   "codemirror_mode": {
    "name": "ipython",
    "version": 3
   },
   "file_extension": ".py",
   "mimetype": "text/x-python",
   "name": "python",
   "nbconvert_exporter": "python",
   "pygments_lexer": "ipython3",
   "version": "3.9.13"
  }
 },
 "nbformat": 4,
 "nbformat_minor": 5
}
