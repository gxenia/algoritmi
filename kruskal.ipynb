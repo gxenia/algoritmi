{
 "cells": [
  {
   "cell_type": "markdown",
   "id": "99440b9c",
   "metadata": {},
   "source": [
    "# Kruskal"
   ]
  },
  {
   "cell_type": "markdown",
   "id": "0f9c280f",
   "metadata": {},
   "source": [
    "Un altro algoritmo che ci permette di calcolare il minimo albero ricoprente di un grafo è quello di Kruskal. A differenza dell'algoritmo di Prim non rilassa la condizione di *contenere tutti i nodi*, piuttosto **rilassa la condizione di connettività**.\n",
    "\n",
    "- <u>Spazio delle soluzioni</u>: grafi aciclici non orientati non connessi $\\implies$ una foresta\n",
    "\n",
    "    Se $G = < N, E, \\lambda >$ è il grafo di parteza, lo spazio delle soluzioni è $F = < N, E', \\lambda' >$, $E' \\in E$\n",
    "\n",
    "- <u>Soluzione iniziale</u>: $F_0 = < N, \\emptyset, \\lambda >$\n",
    "\n",
    "- <u>Regola di movimento</u>: $move: F = < N, E_F, \\lambda >\\quad \\to \\quad F' = < N, E_F \\cup e, \\lambda$ >, con $e \\in E - E_F$\n",
    "\n",
    "- <u>Funzione di costo</u>: somma dei pesi sugli archi\n",
    "- <u>Terminazione</u>: quando ho raggiunto $n-1$ archi"
   ]
  },
  {
   "cell_type": "markdown",
   "id": "013b3ef5",
   "metadata": {},
   "source": [
    "### Spiegazione dell'algoritmo e della sua complessità\n",
    "\n",
    "1. Si prende la lista degli archi e si ordina in base al peso $O(m \\cdot log(m)) \\to O(m \\cdot log(n))$\n",
    "2. Si scorre la lista degli archi e bisogna verificare per ognuno di essi se chiude un ciclo\n",
    "    Si considera l'arco $a = (x,y)$ e si verifica se esiste un arco nella soluzione corrente che parte da $a.y$\n",
    "    - Se sì $\\to$ allora l'arco $a$ chiude un ciclo\n",
    "    - Se no, si aggiunge alla soluzione\n",
    "    La complessità del passo 2 è pertanto $O(m \\cdot n)$ considerando che si fa la verifica per ogni arco del grafo originario e il numero di archi nella soluzione è al più $n-1$ (ricordando che un albero è un grafo connesso aciclico e quindi m = n-1)\n",
    "\n",
    "Si può ridurre la complessità del passo 2 utilizzando una struttura dati UnionFind. Ricordando infatti che un ciclo si crea quando gli archi connettono nodi che fanno parte della stessa componente massimale potrei fare la find di $a.x$ e $a.y$. Su una struttura dati quickFind una find si fa in tempo $O(1)$ e poi si fa l'unione dei due insiemi se sono diversi (che su una struttura dati quickFind con bilanciamento ha costo $O(log(n))$). Considerando il fatto che si possono fare al più $n-1$ union, la complessità complessiva del passo 2 utilizzando una struttura dati quickFind con bilanciamento è $O(n\\cdot log(n))$.\n",
    "\n",
    "Questo significa che il costo complessivo dell'algoritmo è $O(m \\cdot log(n) + n \\cdot log(n)) = O(m \\cdot log(n))$ che è la stessa complessità dell'algoritmo di Prim. Notiamo che in questo caso però il costo potrebbe essere ridotto a $O(n\\cdot log(n))$ se riuscissimo a ordinare gli archi in tempo lineare (tipo con un radix sort), pertanto questo potrebbe essere un algoritmo migliore di quello di Prim."
   ]
  },
  {
   "cell_type": "code",
   "execution_count": 3,
   "id": "9f9a5617",
   "metadata": {},
   "outputs": [],
   "source": [
    "from grafi.grafinopesati import GrafoNOP, GrafoNOLAP\n",
    "from grafi.unionfind import UnionFind\n",
    "\n",
    "def _peso(elem):\n",
    "    return elem[2]"
   ]
  },
  {
   "cell_type": "code",
   "execution_count": null,
   "id": "ac9d426e",
   "metadata": {},
   "outputs": [],
   "source": [
    "def kruskal( g : GrafoNOP ) -> GrafoNOP:\n",
    "    archiordinati = sorted(g.archi(), key=_peso)\n",
    "    forest: UnionFind = UnionFind(g.n)\n",
    "    result = GrafoNOP(g.n) # è un minimo albero ricoprente\n",
    "    count = 0 # archi aggiunti alla soluzione finale\n",
    "    for x, y, p in archiordinati:\n",
    "        if forest.find(x) != forest.find(y): # se non chiude un ciclo\n",
    "            result.append((x, y, p))\n",
    "            forest.union(forest.find(x), forest.find(y))\n",
    "            count += 1\n",
    "        if count == g.n - 1:\n",
    "            return result\n",
    "    return []"
   ]
  },
  {
   "cell_type": "markdown",
   "id": "8b558347",
   "metadata": {},
   "source": [
    "Segue il codice del professore in Java in cui ci sono dei commentini *carini* sulle complessità"
   ]
  },
  {
   "cell_type": "code",
   "execution_count": null,
   "id": "a9522f2c",
   "metadata": {
    "vscode": {
     "languageId": "javascript"
    }
   },
   "outputs": [],
   "source": [
    "public Grafo<ArcoPesato> kruskal(){ // theta( m n) || (union find) theta(m lg n)\n",
    "\t\tArrayList<ArcoPesato> archi = generaArchiOrdinati(); // theta(m lg n) || theta(n^2 + m lg n)\n",
    "\t\tint inseriti = 0;\n",
    "\t\tGrafoLista<ArcoPesato> albero = new GrafoLista<ArcoPesato>(n());\n",
    "\t\t// creare union find - theta(n)\n",
    "\t\t\n",
    "\t\t//theta (m + n lg n)\n",
    "\t\tfor(int i=0; (i<archi.size())&& (inseriti<n()-1); i++){ // m volte\n",
    "\t\t\tList<Integer> lista = albero.depthFirstSearch(archi.get(i).getIn()); // theta(n) || theta (n^2)\n",
    "\t\t\t// 2 find theta(1)\n",
    "\t\t\tif (!lista.contains(archi.get(i).getFin())){ // theta(1)\n",
    "\t\t\t\talbero.aggiungiArco(archi.get(i)); // theta(1)\n",
    "\t\t\t\tinseriti++; // theta(1)\n",
    "\t\t\t\t// union degli insiemi che contengono archi[i].getFin()\n",
    "\t\t\t\t// e archi[i].getIn() - theta(n)\n",
    "\t\t\t\t// complessivamente facciamo n-1 union che hanno un costo theta(n lg n)\n",
    "\t\t\t}\n",
    "\t\t}\n",
    "\t\tif (inseriti==n()-1)\n",
    "\t\t\treturn albero;\n",
    "\t\treturn null;\n",
    "\t}"
   ]
  },
  {
   "cell_type": "code",
   "execution_count": null,
   "id": "cf05c790",
   "metadata": {
    "vscode": {
     "languageId": "javascript"
    }
   },
   "outputs": [],
   "source": [
    "public List<ArcoPesato> kruskalUF(){ //theta(m lg n)\n",
    "\t\tArrayList<ArcoPesato> archi = generaArchiOrdinati(); // theta(m lg n) \n",
    "\t\tint inseriti = 0;\n",
    "\t\tUnionFind foresta = new UnionFind(n());\n",
    "\t\t// creare union find - theta(n)\n",
    "\t\tList<ArcoPesato> risultato = new LinkedList<ArcoPesato>();\n",
    "\t\t//theta (m + n lg n)\n",
    "\t\tfor(int i=0; (i<archi.size())&& (inseriti<n()-1); i++){ // m volte\n",
    "\t\t\t// 2 find theta(1)\n",
    "\t\t\tif (foresta.find(archi.get(i).getIn())!=foresta.find(archi.get(i).getFin())){ // theta(1)\n",
    "\t\t\t\tforesta.merge(foresta.find(archi.get(i).getIn()),foresta.find(archi.get(i).getFin())); // theta(1)\n",
    "\t\t\t\tinseriti++; // theta(1)\n",
    "\t\t\t\trisultato.add(archi.get(i));\n",
    "\t\t\t\t// union degli insiemi che contengono archi[i].getFin()\n",
    "\t\t\t\t// e archi[i].getIn() - theta(n)\n",
    "\t\t\t\t// complessivamente facciamo n-1 union che hanno un costo theta(n lg n)\n",
    "\t\t\t}\n",
    "\t\t}\n",
    "\t\tif (inseriti==n()-1)\n",
    "\t\t\treturn risultato;\n",
    "\t\treturn risultato;\n",
    "\t}"
   ]
  }
 ],
 "metadata": {
  "kernelspec": {
   "display_name": "Python 3",
   "language": "python",
   "name": "python3"
  },
  "language_info": {
   "codemirror_mode": {
    "name": "ipython",
    "version": 3
   },
   "file_extension": ".py",
   "mimetype": "text/x-python",
   "name": "python",
   "nbconvert_exporter": "python",
   "pygments_lexer": "ipython3",
   "version": "3.9.13"
  }
 },
 "nbformat": 4,
 "nbformat_minor": 5
}
