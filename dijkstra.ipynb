{
 "cells": [
  {
   "cell_type": "markdown",
   "id": "fe94b38c",
   "metadata": {},
   "source": [
    "# L'algoritmo di Dijkstra"
   ]
  },
  {
   "cell_type": "markdown",
   "id": "28b31171",
   "metadata": {},
   "source": [
    "L'algoritmo di Dijkstra per trovare l'albero dei cammini minimi è un algoritmo *goloso* molto simile a quello di Prim. Differisce da quest'ultimo rispetto alla funzione di costo, infatti l'obiettivo è quello di **minimizzare il costo del cammino più lungo** che è possibile percorrere a partire da un certo nodo di riferimento."
   ]
  },
  {
   "cell_type": "markdown",
   "id": "a7fe7839",
   "metadata": {},
   "source": [
    "Quindi, anziché conservare il peso dell'arco di peso minimo per raggiungere un dato nodo, la struttura dati da mantenere è un array che conserva il costo del cammino minimo per raggiungerlo."
   ]
  },
  {
   "cell_type": "markdown",
   "id": "0d32d5cc",
   "metadata": {},
   "source": [
    "<u>Vincolo</u>: i pesi degli archi non possono essere negativi"
   ]
  },
  {
   "cell_type": "markdown",
   "id": "a2142c50",
   "metadata": {},
   "source": [
    "### Implementazione senza heap"
   ]
  },
  {
   "cell_type": "code",
   "execution_count": 7,
   "id": "69d29cee",
   "metadata": {},
   "outputs": [],
   "source": [
    "import sys\n",
    "from grafi.grafinopesati import GrafoNOP, GrafoNOLAP"
   ]
  },
  {
   "cell_type": "code",
   "execution_count": 8,
   "id": "9b723ec3",
   "metadata": {},
   "outputs": [],
   "source": [
    "def dijkstra( g:GrafoNOP ) -> GrafoNOP:\n",
    "    # Inizializzo le strutture dati di supporto\n",
    "    presente_sol : list[bool] = [False]*g.n\n",
    "    pesi_cammini : list[int] = [sys.maxsize]*g.n\n",
    "    padri : list[int] = [-1]*g.n\n",
    "    \n",
    "    ret : GrafoNOP = GrafoNOLAP(g.n) # Albero in uscita\n",
    "    nodo_rif : int = 0\n",
    "    presente_sol[nodo_rif] = True\n",
    "    pesi_cammini[nodo_rif] = 0\n",
    "    padri[nodo_rif] = 0\n",
    "    while ( any(not x for x in presente_sol) ): # Finché non ho inserito tutti i nodi nella soluzione\n",
    "        # Scorro gli adiacenti\n",
    "        for arco in g.adiacenti(nodo_rif):\n",
    "            if ( not presente_sol[arco.y] and pesi_cammini[nodo_rif] + arco.peso < pesi_cammini[arco.y] ):\n",
    "                pesi_cammini[arco.y] = pesi_cammini[nodo_rif] + arco.peso\n",
    "                padri[arco.y] = nodo_rif\n",
    "        # Scelgo il prossimo nodo di riferimento (quello il cui costo di raggiungimento è minimo)\n",
    "        min_peso = min( [pesi_cammini[i] for i in range(g.n) if presente_sol[i] == False] )\n",
    "        min_nodo = -1\n",
    "        for i in range(g.n):\n",
    "            if presente_sol[i] == False and pesi_cammini[i] == min_peso: \n",
    "                min_nodo = i \n",
    "                break\n",
    "\n",
    "        x, y = padri[min_nodo], min_nodo\n",
    "        ret.aggiungiarco(x,y,g.arco(x,y)[2]) # aggiungo l'arco alla soluzione\n",
    "\n",
    "        nodo_rif = y # aggiorno il nodo di riferimento\n",
    "        presente_sol[nodo_rif] = True\n",
    "        \n",
    "    return ret"
   ]
  },
  {
   "cell_type": "code",
   "execution_count": 9,
   "id": "a12a1b05",
   "metadata": {},
   "outputs": [
    {
     "name": "stdout",
     "output_type": "stream",
     "text": [
      "(0, 1, 1)\n",
      "(0, 3, 2)\n",
      "(1, 0, 1)\n",
      "(1, 2, 1)\n",
      "(2, 1, 1)\n",
      "(3, 0, 2)\n"
     ]
    }
   ],
   "source": [
    "# Speriamo funzioni\n",
    "\n",
    "g : GrafoNOP = GrafoNOLAP(4)\n",
    "g.aggiungiarco(0,1,1)\n",
    "g.aggiungiarco(0,3,2)\n",
    "g.aggiungiarco(1,2,1)\n",
    "g.aggiungiarco(2,3,1)\n",
    "\n",
    "alb_cammini_minimi = dijkstra(g)\n",
    "alb_cammini_minimi.stampa()"
   ]
  },
  {
   "cell_type": "markdown",
   "id": "ceb55fca",
   "metadata": {},
   "source": [
    "Come nel caso di Prim è possibile ridurre la complessità dell'algoritmo da $O(n^2)$ a $O(m \\cdot log(n))$ utilizzando un heap modificabile di supporto."
   ]
  },
  {
   "cell_type": "code",
   "execution_count": 11,
   "id": "7262231e",
   "metadata": {},
   "outputs": [],
   "source": [
    "from heap.heap import Heap\n",
    "from heap.heapmodificabile import HeapModificabile\n",
    "from grafi.algosugrafipesati import Pair"
   ]
  },
  {
   "cell_type": "code",
   "execution_count": 12,
   "id": "1f920905",
   "metadata": {},
   "outputs": [],
   "source": [
    "def prim_migliorato( g:GrafoNOP ) -> GrafoNOP:\n",
    "    # Inizializzo le strutture dati di supporto\n",
    "    presente_sol : list[bool] = [False]*g.n\n",
    "    pesi_cammini : list[int] = [sys.maxsize]*g.n\n",
    "    padri : list[int] = [-1]*g.n\n",
    "    heap : HeapModificabile[Pair] = HeapModificabile(g.n)\n",
    "    \n",
    "    ret : GrafoNOP = GrafoNOLAP(g.n) # Albero in uscita\n",
    "    nodo_rif : int = 0\n",
    "    presente_sol[nodo_rif] = True\n",
    "    pesi_cammini[nodo_rif] = 0\n",
    "    padri[nodo_rif] = 0\n",
    "    \n",
    "    # Inizializzo l'heap con gli adiacenti di 0\n",
    "    for arco in g.adiacenti(nodo_rif):\n",
    "        heap.ins(Pair(arco.y, arco.peso))\n",
    "        pesi_cammini[arco.y] = arco.peso\n",
    "        padri[arco.y] = 0 # nodo_rif\n",
    "\n",
    "    while ( not heap.evuoto() ): # Finché non ho inserito tutti i nodi nella soluzione\n",
    "        nodo : Pair = heap.out() # Pair ( nodo, arco min per raggiungerlo )\n",
    "        nodo_rif = nodo.x \n",
    "\n",
    "        x, y = padri[nodo_rif], nodo_rif\n",
    "        ret.aggiungiarco(x,y,g.arco(x,y)[2]) # aggiungo l'arco alla soluzione\n",
    "        presente_sol[nodo_rif] = True\n",
    "\n",
    "        # Scorro gli adiacenti\n",
    "        for arco in g.adiacenti(nodo_rif):\n",
    "            if ( not presente_sol[arco.y] ):\n",
    "                a = Pair(arco.y, pesi_cammini[nodo_rif] + arco.peso)\n",
    "                if ( padri[arco.y] == -1 ):\n",
    "                    heap.ins(a)\n",
    "                    pesi_cammini[arco.y] = pesi_cammini[nodo_rif] + arco.peso\n",
    "                    padri[arco.y] = nodo_rif\n",
    "                elif ( arco.peso < pesi_cammini[nodo_rif] + arco.peso ):\n",
    "                    heap.update(a)\n",
    "                    pesi_cammini[arco.y] = pesi_cammini[nodo_rif] + arco.peso\n",
    "                    padri[arco.y] = nodo_rif\n",
    "        \n",
    "    return ret"
   ]
  },
  {
   "cell_type": "code",
   "execution_count": 13,
   "id": "27da70ca",
   "metadata": {},
   "outputs": [
    {
     "name": "stdout",
     "output_type": "stream",
     "text": [
      "(0, 1, 1)\n",
      "(0, 3, 2)\n",
      "(1, 0, 1)\n",
      "(1, 2, 1)\n",
      "(2, 1, 1)\n",
      "(3, 0, 2)\n"
     ]
    }
   ],
   "source": [
    "# Speriamo funzioni\n",
    "\n",
    "g : GrafoNOP = GrafoNOLAP(4)\n",
    "g.aggiungiarco(0,1,1)\n",
    "g.aggiungiarco(0,3,2)\n",
    "g.aggiungiarco(1,2,1)\n",
    "g.aggiungiarco(2,3,1)\n",
    "\n",
    "alb_cammini_minimi = dijkstra(g)\n",
    "alb_cammini_minimi.stampa()"
   ]
  }
 ],
 "metadata": {
  "kernelspec": {
   "display_name": "Python 3",
   "language": "python",
   "name": "python3"
  },
  "language_info": {
   "codemirror_mode": {
    "name": "ipython",
    "version": 3
   },
   "file_extension": ".py",
   "mimetype": "text/x-python",
   "name": "python",
   "nbconvert_exporter": "python",
   "pygments_lexer": "ipython3",
   "version": "3.9.13"
  }
 },
 "nbformat": 4,
 "nbformat_minor": 5
}
